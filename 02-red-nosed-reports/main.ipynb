{
 "cells": [
  {
   "cell_type": "code",
   "execution_count": 15,
   "metadata": {},
   "outputs": [
    {
     "data": {
      "text/plain": [
       "306"
      ]
     },
     "execution_count": 15,
     "metadata": {},
     "output_type": "execute_result"
    }
   ],
   "source": [
    "filename = \"input.txt\"\n",
    "data = []\n",
    "with open(filename, \"r\") as f:\n",
    "    data = f.readlines()\n",
    "\n",
    "reports = []\n",
    "for line in data : \n",
    "    chars = line.split()\n",
    "    # 1ère ligne => report = ['7', '6', '4', '2', '1']\n",
    "    report = []\n",
    "    for char in chars :\n",
    "        report.append(int(char))\n",
    "    reports.append(report)\n",
    "\n",
    "safe_reports = []\n",
    "for report in reports:\n",
    "    # 1er élément = [7, 6, 4, 2, 1]\n",
    "    # print(\"---\")\n",
    "    # print(f\"{report=}\")\n",
    "    safe = True\n",
    "    increasing = None\n",
    "    last_index = len(report) - 1\n",
    "    for i in range(0, last_index):\n",
    "        current = report[i]\n",
    "        next = report[i+1]\n",
    "\n",
    "        diff = next - current\n",
    "        # print(f\"{diff=}\")\n",
    "        if diff == 0:\n",
    "            safe = False\n",
    "            break\n",
    "        elif diff < 0:\n",
    "            if increasing == True:\n",
    "                safe = False\n",
    "                break\n",
    "            increasing = False\n",
    "        elif diff > 0:\n",
    "            if increasing == False:\n",
    "                safe = False\n",
    "                break\n",
    "            increasing = True\n",
    "\n",
    "        if abs(diff) > 3:\n",
    "            safe = False\n",
    "            break\n",
    "    # print(f\"{safe=}\")\n",
    "\n",
    "    if safe:\n",
    "        safe_reports.append(report)\n",
    "\n",
    "result = len(safe_reports)\n",
    "result"
   ]
  }
 ],
 "metadata": {
  "kernelspec": {
   "display_name": ".venv",
   "language": "python",
   "name": "python3"
  },
  "language_info": {
   "codemirror_mode": {
    "name": "ipython",
    "version": 3
   },
   "file_extension": ".py",
   "mimetype": "text/x-python",
   "name": "python",
   "nbconvert_exporter": "python",
   "pygments_lexer": "ipython3",
   "version": "3.12.3"
  }
 },
 "nbformat": 4,
 "nbformat_minor": 2
}
